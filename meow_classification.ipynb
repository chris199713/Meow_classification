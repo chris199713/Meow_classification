{
 "cells": [
  {
   "cell_type": "markdown",
   "id": "a9c4acdc-1ea1-4fe6-a05d-36890b1ed055",
   "metadata": {},
   "source": [
    "This dataset, composed of 440 sound recordings, contains meows emitted by cats in different contexts. Specifically, 21 cats belonging to 2 breeds (Maine Coon and European Shorthair) have been repeatedly exposed to three different stimuli that act as labels for prediction:\n",
    "\n",
    "* Waiting for food;\n",
    "* Isolation in unfamiliar environment;\n",
    "* Brushing (being brushed affectionately by the owner).\n",
    "\n",
    "Naming conventions follow the pattern \n",
    "* L[label]_\n",
    "* CID[Cat ID]_\n",
    "* BB[Cat Breed]_\n",
    "* SS[Sex]_\n",
    "* OID[Owner ID]_\n",
    "* R[Recording Session]\n",
    "* XX[Meow counter].\n",
    "\n",
    "The unique values are available in the 'dataset' folder description."
   ]
  },
  {
   "cell_type": "markdown",
   "id": "b86d4105-f281-4ede-9a6b-902e5a723392",
   "metadata": {},
   "source": [
    "# 1.Import and parse file name to csv"
   ]
  },
  {
   "cell_type": "code",
   "execution_count": 1,
   "id": "6025c48a-6f1b-4393-b56c-a683ae9ca57f",
   "metadata": {},
   "outputs": [],
   "source": [
    "import pandas as pd\n",
    "import os"
   ]
  },
  {
   "cell_type": "code",
   "execution_count": 2,
   "id": "b43b7ee1-5903-4239-876e-0271c070065e",
   "metadata": {},
   "outputs": [],
   "source": [
    "path = os.getcwd()\n",
    "raw_audio_file_path = os.path.join(path,'data\\\\raw_wave')\n",
    "label_folder = ['Brushing','Food','Environment']"
   ]
  },
  {
   "cell_type": "code",
   "execution_count": 3,
   "id": "fab24857-60fa-45f5-a416-24c04b343eb4",
   "metadata": {},
   "outputs": [],
   "source": [
    "csv_data = []\n",
    "\n",
    "for label in label_folder:\n",
    "    for file in os.listdir(os.path.join(raw_audio_file_path,label)):\n",
    "        if file[0:3] == 'aug':\n",
    "            continue\n",
    "        file.split('_')\n",
    "        csv_data.append(file.split('_'))\n",
    "#         break\n",
    "df = pd.DataFrame(data = csv_data, columns = ['label','Cat_id','Cat_breed','Sex','Owner_id','Recording_session_Meow_counter'])"
   ]
  },
  {
   "cell_type": "code",
   "execution_count": 4,
   "id": "05fd9bdf-17e3-44bd-98c4-64a0a91eb04a",
   "metadata": {},
   "outputs": [
    {
     "data": {
      "text/html": [
       "<div>\n",
       "<style scoped>\n",
       "    .dataframe tbody tr th:only-of-type {\n",
       "        vertical-align: middle;\n",
       "    }\n",
       "\n",
       "    .dataframe tbody tr th {\n",
       "        vertical-align: top;\n",
       "    }\n",
       "\n",
       "    .dataframe thead th {\n",
       "        text-align: right;\n",
       "    }\n",
       "</style>\n",
       "<table border=\"1\" class=\"dataframe\">\n",
       "  <thead>\n",
       "    <tr style=\"text-align: right;\">\n",
       "      <th></th>\n",
       "      <th>label</th>\n",
       "      <th>Cat_id</th>\n",
       "      <th>Cat_breed</th>\n",
       "      <th>Sex</th>\n",
       "      <th>Owner_id</th>\n",
       "      <th>Recording_session_Meow_counter</th>\n",
       "    </tr>\n",
       "  </thead>\n",
       "  <tbody>\n",
       "    <tr>\n",
       "      <th>0</th>\n",
       "      <td>B</td>\n",
       "      <td>ANI01</td>\n",
       "      <td>MC</td>\n",
       "      <td>FN</td>\n",
       "      <td>SIM01</td>\n",
       "      <td>101.wav</td>\n",
       "    </tr>\n",
       "    <tr>\n",
       "      <th>1</th>\n",
       "      <td>B</td>\n",
       "      <td>ANI01</td>\n",
       "      <td>MC</td>\n",
       "      <td>FN</td>\n",
       "      <td>SIM01</td>\n",
       "      <td>102.wav</td>\n",
       "    </tr>\n",
       "    <tr>\n",
       "      <th>2</th>\n",
       "      <td>B</td>\n",
       "      <td>ANI01</td>\n",
       "      <td>MC</td>\n",
       "      <td>FN</td>\n",
       "      <td>SIM01</td>\n",
       "      <td>103.wav</td>\n",
       "    </tr>\n",
       "    <tr>\n",
       "      <th>3</th>\n",
       "      <td>B</td>\n",
       "      <td>ANI01</td>\n",
       "      <td>MC</td>\n",
       "      <td>FN</td>\n",
       "      <td>SIM01</td>\n",
       "      <td>301.wav</td>\n",
       "    </tr>\n",
       "    <tr>\n",
       "      <th>4</th>\n",
       "      <td>B</td>\n",
       "      <td>ANI01</td>\n",
       "      <td>MC</td>\n",
       "      <td>FN</td>\n",
       "      <td>SIM01</td>\n",
       "      <td>302.wav</td>\n",
       "    </tr>\n",
       "  </tbody>\n",
       "</table>\n",
       "</div>"
      ],
      "text/plain": [
       "  label Cat_id Cat_breed Sex Owner_id Recording_session_Meow_counter\n",
       "0     B  ANI01        MC  FN    SIM01                        101.wav\n",
       "1     B  ANI01        MC  FN    SIM01                        102.wav\n",
       "2     B  ANI01        MC  FN    SIM01                        103.wav\n",
       "3     B  ANI01        MC  FN    SIM01                        301.wav\n",
       "4     B  ANI01        MC  FN    SIM01                        302.wav"
      ]
     },
     "execution_count": 4,
     "metadata": {},
     "output_type": "execute_result"
    }
   ],
   "source": [
    "df.head()"
   ]
  },
  {
   "cell_type": "markdown",
   "id": "5f7bd13e-eb57-4aa3-ac3b-491af180943a",
   "metadata": {},
   "source": [
    "### Section conclusion: data comsist of 440 audio files(.wav) of cat calls from two species and 3 behaviors. The target of this task is to use these files to train a model that can coorectly classify the behavior based on audio input. "
   ]
  },
  {
   "cell_type": "markdown",
   "id": "3713c2a9-8586-4233-9beb-3b0fa3271298",
   "metadata": {},
   "source": [
    "# 2.Visualize categorical data to check for imbalance"
   ]
  },
  {
   "cell_type": "code",
   "execution_count": 5,
   "id": "a12f5be3-4bdc-44e2-968c-e8f1dbe4ff20",
   "metadata": {},
   "outputs": [],
   "source": [
    "import seaborn as sns"
   ]
  },
  {
   "cell_type": "code",
   "execution_count": 6,
   "id": "4c44d22f-f085-4f51-bb77-3aef087dc66b",
   "metadata": {},
   "outputs": [
    {
     "data": {
      "text/plain": [
       "[Text(0.5, 1.0, 'label count')]"
      ]
     },
     "execution_count": 6,
     "metadata": {},
     "output_type": "execute_result"
    },
    {
     "data": {
      "image/png": "[encoded data removed]",
      "text/plain": [
       "<Figure size 640x480 with 1 Axes>"
      ]
     },
     "metadata": {},
     "output_type": "display_data"
    }
   ],
   "source": [
    "sns.countplot(data = df['label']).set(title='label count')"
   ]
  },
  {
   "cell_type": "code",
   "execution_count": 7,
   "id": "7571c6ae-c108-41b0-981f-c98bbff1185d",
   "metadata": {},
   "outputs": [
    {
     "data": {
      "text/plain": [
       "[Text(0.5, 1.0, 'label count')]"
      ]
     },
     "execution_count": 7,
     "metadata": {},
     "output_type": "execute_result"
    },
    {
     "data": {
      "image/png": "[encoded data removed]",
      "text/plain": [
       "<Figure size 640x480 with 1 Axes>"
      ]
     },
     "metadata": {},
     "output_type": "display_data"
    }
   ],
   "source": [
    "sns.countplot(data = df['Cat_breed']).set(title='label count')"
   ]
  },
  {
   "cell_type": "markdown",
   "id": "e7a6bdd9-8de6-4bfd-a36c-273cf006b691",
   "metadata": {},
   "source": [
    "### Section Conclusion: The target variable is imbalanced. moving forward this problem will have to be addressed."
   ]
  },
  {
   "cell_type": "markdown",
   "id": "02bc94b8-667f-4228-9bf6-d562f610b376",
   "metadata": {},
   "source": [
    "# 3.Transfering audio file to spectrogram and convert this problem into one that may be solved by computer vision."
   ]
  },
  {
   "cell_type": "code",
   "execution_count": 9,
   "id": "dba2d776-4e76-40ae-992f-aee8c6781983",
   "metadata": {},
   "outputs": [],
   "source": [
    "import tensorflow as tf \n",
    "import tensorflow_io as tfio\n",
    "import matplotlib.pyplot as plt"
   ]
  },
  {
   "cell_type": "code",
   "execution_count": 10,
   "id": "ffc61934-84bd-45b7-9565-0921deab05f5",
   "metadata": {},
   "outputs": [],
   "source": [
    "spec_file_path = os.path.join(path,'data\\\\spectrogram')\n",
    "spec_aug_file_path = os.path.join(path,'data\\\\spectrogram_aug')"
   ]
  },
  {
   "cell_type": "code",
   "execution_count": 11,
   "id": "c50fe352-3f56-48e3-8265-6322ee8ecefd",
   "metadata": {},
   "outputs": [],
   "source": [
    "def read_audio_file(filename):\n",
    "    \n",
    "    file_contents = tf.io.read_file(filename)\n",
    "    wav, sample_rate = tf.audio.decode_wav(file_contents, desired_channels=1)\n",
    "    wav = tf.squeeze(wav, axis=-1)\n",
    "    \n",
    "    return wav"
   ]
  },
  {
   "cell_type": "code",
   "execution_count": 12,
   "id": "97aaa271-a338-4a56-833b-b346f6875f27",
   "metadata": {},
   "outputs": [
    {
     "data": {
      "text/plain": [
       "[<matplotlib.lines.Line2D at 0x1b3b0454430>]"
      ]
     },
     "execution_count": 12,
     "metadata": {},
     "output_type": "execute_result"
    },
    {
     "data": {
      "image/png": "[encoded data removed]",
      "text/plain": [
       "<Figure size 640x480 with 1 Axes>"
      ]
     },
     "metadata": {},
     "output_type": "display_data"
    }
   ],
   "source": [
    "wave = read_audio_file(raw_audio_file_path + '\\\\Brushing\\\\B_ANI01_MC_FN_SIM01_101.wav')\n",
    "plt.plot(wave)"
   ]
  },
  {
   "cell_type": "code",
   "execution_count": 13,
   "id": "0bdc357e-cd4b-49a7-a662-7ba7f300a058",
   "metadata": {},
   "outputs": [
    {
     "data": {
      "text/plain": [
       "<tf.Tensor: shape=(), dtype=int32, numpy=25194>"
      ]
     },
     "execution_count": 13,
     "metadata": {},
     "output_type": "execute_result"
    }
   ],
   "source": [
    "lengths = []\n",
    "for label in label_folder:\n",
    "    for file in os.listdir(os.path.join(raw_audio_file_path, label)):\n",
    "        tensor_wave = read_audio_file(os.path.join('data\\\\raw_wave', label, file))\n",
    "        lengths.append(len(tensor_wave))\n",
    "tf.math.reduce_mean(lengths)"
   ]
  },
  {
   "cell_type": "code",
   "execution_count": 14,
   "id": "503fa5d0-5a95-4dcb-8eed-367eaa5eb2a7",
   "metadata": {},
   "outputs": [],
   "source": [
    "def spectrogram_builder(file_path,label):\n",
    "    wav = read_audio_file(file_path)\n",
    "    wav = wav[:26000]\n",
    "    zero_padding = tf.zeros([26000] - tf.shape(wav), dtype=tf.float32)\n",
    "    wav = tf.concat([zero_padding, wav],0)\n",
    "    spectrogram = tf.signal.stft(wav, frame_length=320, frame_step=32)\n",
    "    spectrogram = tf.abs(spectrogram)\n",
    "    spectrogram = tf.expand_dims(spectrogram, axis=2)\n",
    "    return spectrogram, label"
   ]
  },
  {
   "cell_type": "code",
   "execution_count": null,
   "id": "3312b079-0b76-40fb-8c50-7ebab4237bdf",
   "metadata": {},
   "outputs": [],
   "source": [
    "# data\\raw_wave\\Brushing\\B_ANI01_MC_FN_SIM01_101.wav\n",
    "for label in label_folder:\n",
    "    counter = 0\n",
    "    for file in os.listdir(os.path.join(raw_audio_file_path, label)):\n",
    "        \n",
    "        file_path = os.path.join(raw_audio_file_path, label, file)\n",
    "        save_path = os.path.join(spec_aug_file_path, label, label+'_'+str(counter))\n",
    "        counter+=1\n",
    "        \n",
    "        spectrogram, label = spectrogram_builder(file_path,label)\n",
    "        plt.figure(figsize=(30,20))\n",
    "        plt.imshow(tf.transpose(spectrogram)[0])\n",
    "        plt.axis('off')\n",
    "        plt.savefig(save_path, bbox_inches='tight', pad_inches=0)\n",
    "        plt.close()\n",
    "        \n",
    "#         plt.figure(figsize=(30,20))\n",
    "#         plt.imshow(tf.transpose(spectrogram)[0])\n",
    "#         plt.show()\n",
    "#     break"
   ]
  },
  {
   "cell_type": "markdown",
   "id": "cd99d25d-bf2d-4d07-9362-f850b6feb70a",
   "metadata": {},
   "source": [
    "# 4.Training the model"
   ]
  },
  {
   "cell_type": "code",
   "execution_count": 15,
   "id": "585463b0-4342-4ee0-b01b-464fb1012067",
   "metadata": {},
   "outputs": [],
   "source": [
    "batch_size = 32\n",
    "img_height = 616\n",
    "img_width = 257"
   ]
  },
  {
   "cell_type": "code",
   "execution_count": 16,
   "id": "25a4e5a2-0f50-4391-84f6-098ad3ce041c",
   "metadata": {},
   "outputs": [
    {
     "name": "stdout",
     "output_type": "stream",
     "text": [
      "Found 750 files belonging to 3 classes.\n",
      "Using 600 files for training.\n",
      "Found 750 files belonging to 3 classes.\n",
      "Using 150 files for validation.\n"
     ]
    }
   ],
   "source": [
    "train_ds = tf.keras.utils.image_dataset_from_directory(\n",
    "    spec_aug_file_path,\n",
    "    subset=\"training\",\n",
    "    validation_split=0.2,\n",
    "    image_size=(img_height,img_width),\n",
    "    seed=123,\n",
    "    batch_size=batch_size,\n",
    "    label_mode='categorical')\n",
    "\n",
    "val_ds = tf.keras.utils.image_dataset_from_directory(\n",
    "    spec_aug_file_path,\n",
    "    validation_split=0.2,\n",
    "    subset=\"validation\",\n",
    "    seed=123,\n",
    "    image_size=(img_height,img_width),\n",
    "    batch_size=batch_size,\n",
    "    label_mode='categorical')"
   ]
  },
  {
   "cell_type": "code",
   "execution_count": 17,
   "id": "1d2b448b-4264-401c-ae5e-22df5cb58269",
   "metadata": {},
   "outputs": [
    {
     "name": "stdout",
     "output_type": "stream",
     "text": [
      "['Brushing', 'Environment', 'Food']\n"
     ]
    }
   ],
   "source": [
    "class_names = train_ds.class_names\n",
    "print(class_names)"
   ]
  },
  {
   "cell_type": "code",
   "execution_count": 18,
   "id": "8e24945a-2a08-4373-bd5a-87a2417922ca",
   "metadata": {},
   "outputs": [
    {
     "name": "stdout",
     "output_type": "stream",
     "text": [
      "(32, 616, 257, 3)\n",
      "(32, 3)\n"
     ]
    }
   ],
   "source": [
    "for image_batch, labels_batch in train_ds:\n",
    "  print(image_batch.shape)\n",
    "  print(labels_batch.shape)\n",
    "  break"
   ]
  },
  {
   "cell_type": "code",
   "execution_count": 19,
   "id": "4f414764-3edd-4b26-91c1-f50d27bd0b5a",
   "metadata": {},
   "outputs": [],
   "source": [
    "train_ds = train_ds.cache().shuffle(1000).prefetch(buffer_size=tf.data.AUTOTUNE)\n",
    "val_ds = val_ds.cache().prefetch(buffer_size=tf.data.AUTOTUNE)"
   ]
  },
  {
   "cell_type": "code",
   "execution_count": 20,
   "id": "dc23430d-6c92-45d5-8678-978a7c89b469",
   "metadata": {},
   "outputs": [],
   "source": [
    "import numpy as np"
   ]
  },
  {
   "cell_type": "code",
   "execution_count": 21,
   "id": "183f9039-3396-40d1-871c-bcd767a364a8",
   "metadata": {},
   "outputs": [
    {
     "name": "stdout",
     "output_type": "stream",
     "text": [
      "0.003921569 0.9899163\n"
     ]
    }
   ],
   "source": [
    "normalization_layer = tf.keras.layers.Rescaling(1./255)\n",
    "normalized_ds = train_ds.map(lambda x, y: (normalization_layer(x), y))\n",
    "image_batch, labels_batch = next(iter(normalized_ds))\n",
    "first_image = image_batch[0]\n",
    "# Notice the pixel values are now in `[0,1]`.\n",
    "print(np.min(first_image), np.max(first_image))"
   ]
  },
  {
   "cell_type": "code",
   "execution_count": 22,
   "id": "e48b11f1-c70d-40fa-a3eb-395a2f3e9a60",
   "metadata": {},
   "outputs": [],
   "source": [
    "from tensorflow.keras.models import Sequential\n",
    "import tensorflow.keras.layers as layers\n",
    "from tensorflow.keras.layers import Conv2D, Dense, Flatten, Dropout, MaxPooling2D"
   ]
  },
  {
   "cell_type": "code",
   "execution_count": 27,
   "id": "c56e14e4-8515-4273-9b52-36c04e85b2ae",
   "metadata": {},
   "outputs": [],
   "source": [
    "model=Sequential()\n",
    "\n",
    "model.add(Conv2D(filters=32, kernel_size = (3,3), activation=\"relu\", input_shape=(616,257,3)))\n",
    "model.add(MaxPooling2D(pool_size=(2,2)))\n",
    "model.add(Dropout(0.25))\n",
    "\n",
    "# model.add(Conv2D(filters=64, kernel_size = (3,3), activation=\"relu\"))\n",
    "# model.add(MaxPooling2D(pool_size=(2,2)))\n",
    "# model.add(Dropout(0.25))\n",
    "\n",
    "# model.add(Conv2D(filters=128, kernel_size = (3,3), activation=\"relu\"))\n",
    "# model.add(MaxPooling2D(pool_size=(2,2)))\n",
    "\n",
    "    \n",
    "model.add(Flatten())\n",
    "model.add(Dense(128,activation=\"relu\"))\n",
    "    \n",
    "model.add(Dense(3,activation=\"softmax\"))\n",
    "    \n",
    "model.compile(loss=\"categorical_crossentropy\", optimizer=\"adam\", metrics=[\"accuracy\"])"
   ]
  },
  {
   "cell_type": "code",
   "execution_count": 28,
   "id": "08a1535e-e648-4d0d-b21d-e6e75b4d267e",
   "metadata": {},
   "outputs": [
    {
     "name": "stdout",
     "output_type": "stream",
     "text": [
      "Model: \"sequential_1\"\n",
      "_________________________________________________________________\n",
      " Layer (type)                Output Shape              Param #   \n",
      "=================================================================\n",
      " conv2d_1 (Conv2D)           (None, 614, 255, 32)      896       \n",
      "                                                                 \n",
      " max_pooling2d_1 (MaxPoolin  (None, 307, 127, 32)      0         \n",
      " g2D)                                                            \n",
      "                                                                 \n",
      " dropout_1 (Dropout)         (None, 307, 127, 32)      0         \n",
      "                                                                 \n",
      " conv2d_2 (Conv2D)           (None, 305, 125, 64)      18496     \n",
      "                                                                 \n",
      " max_pooling2d_2 (MaxPoolin  (None, 152, 62, 64)       0         \n",
      " g2D)                                                            \n",
      "                                                                 \n",
      " dropout_2 (Dropout)         (None, 152, 62, 64)       0         \n",
      "                                                                 \n",
      " flatten_1 (Flatten)         (None, 603136)            0         \n",
      "                                                                 \n",
      " dense_2 (Dense)             (None, 128)               77201536  \n",
      "                                                                 \n",
      " dense_3 (Dense)             (None, 3)                 387       \n",
      "                                                                 \n",
      "=================================================================\n",
      "Total params: 77221315 (294.58 MB)\n",
      "Trainable params: 77221315 (294.58 MB)\n",
      "Non-trainable params: 0 (0.00 Byte)\n",
      "_________________________________________________________________\n"
     ]
    }
   ],
   "source": [
    "model.summary()"
   ]
  },
  {
   "cell_type": "code",
   "execution_count": 29,
   "id": "c71b43c0-ee54-4d56-990d-9cd1eed62571",
   "metadata": {},
   "outputs": [
    {
     "name": "stdout",
     "output_type": "stream",
     "text": [
      "Epoch 1/10\n",
      "19/19 [==============================] - 89s 5s/step - loss: 2473.1765 - accuracy: 0.3317 - val_loss: 1.0991 - val_accuracy: 0.3067\n",
      "Epoch 2/10\n",
      "19/19 [==============================] - 91s 5s/step - loss: 1.8790 - accuracy: 0.3383 - val_loss: 1.0973 - val_accuracy: 0.3933\n",
      "Epoch 3/10\n",
      "19/19 [==============================] - 97s 5s/step - loss: 0.9833 - accuracy: 0.4450 - val_loss: 1.0430 - val_accuracy: 0.4333\n",
      "Epoch 4/10\n",
      "19/19 [==============================] - 92s 5s/step - loss: 0.8021 - accuracy: 0.6517 - val_loss: 0.9812 - val_accuracy: 0.5400\n",
      "Epoch 5/10\n",
      "19/19 [==============================] - 84s 4s/step - loss: 0.5980 - accuracy: 0.7600 - val_loss: 0.9711 - val_accuracy: 0.5533\n",
      "Epoch 6/10\n",
      "19/19 [==============================] - 77s 4s/step - loss: 0.4238 - accuracy: 0.8333 - val_loss: 1.2225 - val_accuracy: 0.6000\n",
      "Epoch 7/10\n",
      "19/19 [==============================] - 99s 5s/step - loss: 0.2437 - accuracy: 0.9167 - val_loss: 1.1985 - val_accuracy: 0.6133\n",
      "Epoch 8/10\n",
      "19/19 [==============================] - 79s 4s/step - loss: 0.1858 - accuracy: 0.9300 - val_loss: 1.5752 - val_accuracy: 0.6067\n",
      "Epoch 9/10\n",
      "19/19 [==============================] - 82s 4s/step - loss: 0.1444 - accuracy: 0.9633 - val_loss: 1.4016 - val_accuracy: 0.6200\n",
      "Epoch 10/10\n",
      "19/19 [==============================] - 81s 4s/step - loss: 0.1162 - accuracy: 0.9633 - val_loss: 1.8220 - val_accuracy: 0.6133\n"
     ]
    }
   ],
   "source": [
    "hist = model.fit(train_ds, epochs=10, validation_data=val_ds)"
   ]
  },
  {
   "cell_type": "code",
   "execution_count": 30,
   "id": "02af5996-5807-41f3-a7c4-5c53de7660e7",
   "metadata": {},
   "outputs": [
    {
     "data": {
      "image/png": "[encoded data removed]",
      "text/plain": [
       "<Figure size 640x480 with 1 Axes>"
      ]
     },
     "metadata": {},
     "output_type": "display_data"
    },
    {
     "data": {
      "image/png": "[encoded data removed]",
      "text/plain": [
       "<Figure size 640x480 with 1 Axes>"
      ]
     },
     "metadata": {},
     "output_type": "display_data"
    }
   ],
   "source": [
    "fig = plt.figure()\n",
    "plt.plot(hist.history['loss'], color='teal', label='loss')\n",
    "plt.plot(hist.history['val_loss'], color='orange', label='val_loss')\n",
    "fig.suptitle('Loss', fontsize=20)\n",
    "plt.legend(loc=\"upper left\")\n",
    "plt.show()\n",
    "fig = plt.figure()\n",
    "plt.plot(hist.history['accuracy'], color='teal', label='accuracy')\n",
    "plt.plot(hist.history['val_accuracy'], color='orange', label='val_accuracy')\n",
    "fig.suptitle('Accuracy', fontsize=20)\n",
    "plt.legend(loc=\"upper left\")\n",
    "plt.show()"
   ]
  },
  {
   "cell_type": "code",
   "execution_count": 25,
   "id": "1666b1d6-9fa0-4e0f-9a3e-d2efb7ef4a29",
   "metadata": {},
   "outputs": [
    {
     "data": {
      "image/png": "[encoded data removed]",
      "text/plain": [
       "<Figure size 640x480 with 1 Axes>"
      ]
     },
     "metadata": {},
     "output_type": "display_data"
    },
    {
     "data": {
      "image/png": "[encoded data removed]",
      "text/plain": [
       "<Figure size 640x480 with 1 Axes>"
      ]
     },
     "metadata": {},
     "output_type": "display_data"
    }
   ],
   "source": [
    "fig = plt.figure()\n",
    "plt.plot(hist.history['loss'], color='teal', label='loss')\n",
    "plt.plot(hist.history['val_loss'], color='orange', label='val_loss')\n",
    "fig.suptitle('Loss', fontsize=20)\n",
    "plt.legend(loc=\"upper left\")\n",
    "plt.show()\n",
    "fig = plt.figure()\n",
    "plt.plot(hist.history['accuracy'], color='teal', label='accuracy')\n",
    "plt.plot(hist.history['val_accuracy'], color='orange', label='val_accuracy')\n",
    "fig.suptitle('Accuracy', fontsize=20)\n",
    "plt.legend(loc=\"upper left\")\n",
    "plt.show()"
   ]
  },
  {
   "cell_type": "markdown",
   "id": "447f5fd8-afbc-4135-b2fd-da7fe88fbd1f",
   "metadata": {},
   "source": [
    "### Section conclusion: Since there is not much data to work with, the base line model was designed to use a simple two layer CNN and dropout layers to prevent overfitting, we can see that the training accuracy way higher than the valadation which signals overfitting. Other regularization method would have to be used."
   ]
  },
  {
   "cell_type": "markdown",
   "id": "c048cd0b-c99a-41e6-988a-aa1cb0986ecf",
   "metadata": {},
   "source": [
    "# 5.Fine Tuning the model and data augmentation"
   ]
  },
  {
   "cell_type": "markdown",
   "id": "b124c91b-bbb8-40a6-9efc-10aa80b4a61d",
   "metadata": {},
   "source": [
    "use data augmentation so every class has 200 data set to train on\n",
    "* Noise addition\n",
    "* time scretch\n",
    "* volume adjustment"
   ]
  },
  {
   "cell_type": "code",
   "execution_count": 22,
   "id": "be1a8bdf-55ae-4c6d-9abc-d2debc658edb",
   "metadata": {},
   "outputs": [],
   "source": [
    "import librosa\n",
    "import numpy as np\n",
    "import random\n",
    "import soundfile as sf"
   ]
  },
  {
   "cell_type": "code",
   "execution_count": 28,
   "id": "d80c8ede-0020-486e-ad2b-552148f99a30",
   "metadata": {},
   "outputs": [],
   "source": [
    "augmented_audio_path = os.path.join(path,'data\\\\augmented_wave')"
   ]
  },
  {
   "cell_type": "code",
   "execution_count": 44,
   "id": "73ca6a7c-7683-421f-9ca9-0740cb00b9df",
   "metadata": {},
   "outputs": [],
   "source": [
    "def add_white_noise(signal, noise_percentage_factor = 0.001):\n",
    "    noise = np.random.normal(0, signal.std(), signal.size)\n",
    "    augmented_signal = signal + noise * noise_percentage_factor\n",
    "    return augmented_signal\n",
    "\n",
    "def time_stretch(signal):\n",
    "\n",
    "    return librosa.effects.time_stretch(signal, rate = 0.9)\n",
    "\n",
    "# def pitch_scale(signal, sr, n_steps):\n",
    "\n",
    "#     return librosa.effects.pitch_shift(signal, sr = sr, n_steps = n_steps)\n",
    "\n",
    "def random_gain(signal, min_factor=0.8, max_factor=0.8):\n",
    "    gain_rate = random.uniform(min_factor, max_factor)\n",
    "    augmented_signal = signal * gain_rate\n",
    "    return augmented_signal\n",
    "\n",
    "\n",
    "def audio_augmentation(signal,aug_fxn):\n",
    "    augmented_signal = aug_fxn(signal = signal)\n",
    "#     print(f'The fxn selected is  {aug_fxn}')\n",
    "#     plt.plot(augmented_signal)\n",
    "    return augmented_signal"
   ]
  },
  {
   "cell_type": "code",
   "execution_count": 45,
   "id": "85ebecb9-1e27-41de-ad51-b6f8c5ed1c79",
   "metadata": {},
   "outputs": [],
   "source": [
    "target_num = 250\n",
    "aug_type = [add_white_noise,time_stretch,random_gain]\n",
    "aug_technique = random.choice(aug_type)"
   ]
  },
  {
   "cell_type": "code",
   "execution_count": 52,
   "id": "c0039b19-43d4-4801-9234-75c1da0581fa",
   "metadata": {},
   "outputs": [
    {
     "name": "stdout",
     "output_type": "stream",
     "text": [
      "class Brushing currently has 127 data points\n",
      "123 will be created for Brushing\n",
      "B_MAG01_EU_FN_FED01_204.wav is selected, and will be the 1 file to be augmented for Brushing\n",
      "B_MAT01_EU_FN_RIT01_206.wav is selected, and will be the 2 file to be augmented for Brushing\n",
      "B_BRI01_MC_FI_SIM01_202.wav is selected, and will be the 3 file to be augmented for Brushing\n",
      "B_NUL01_MC_MI_SIM01_301.wav is selected, and will be the 4 file to be augmented for Brushing\n",
      "B_NUL01_MC_MI_SIM01_302.wav is selected, and will be the 5 file to be augmented for Brushing\n",
      "B_WHO01_MC_FI_SIM01_103.wav is selected, and will be the 6 file to be augmented for Brushing\n",
      "B_BRI01_MC_FI_SIM01_303.wav is selected, and will be the 7 file to be augmented for Brushing\n",
      "B_CAN01_EU_FN_GIA01_307.wav is selected, and will be the 8 file to be augmented for Brushing\n",
      "B_REG01_EU_FN_GIO01_201.wav is selected, and will be the 9 file to be augmented for Brushing\n",
      "B_BRI01_MC_FI_SIM01_301.wav is selected, and will be the 10 file to be augmented for Brushing\n",
      "B_NUL01_MC_MI_SIM01_301.wav is selected, and will be the 11 file to be augmented for Brushing\n",
      "B_BRA01_MC_MN_SIM01_301.wav is selected, and will be the 12 file to be augmented for Brushing\n",
      "B_SPI01_EU_MN_NAI01_103.wav is selected, and will be the 13 file to be augmented for Brushing\n",
      "B_MAT01_EU_FN_RIT01_207.wav is selected, and will be the 14 file to be augmented for Brushing\n",
      "B_ANI01_MC_FN_SIM01_302.wav is selected, and will be the 15 file to be augmented for Brushing\n",
      "B_ANI01_MC_FN_SIM01_302.wav is selected, and will be the 16 file to be augmented for Brushing\n",
      "B_MAT01_EU_FN_RIT01_102.wav is selected, and will be the 17 file to be augmented for Brushing\n",
      "B_BRI01_MC_FI_SIM01_301.wav is selected, and will be the 18 file to be augmented for Brushing\n",
      "B_DAK01_MC_FN_SIM01_302.wav is selected, and will be the 19 file to be augmented for Brushing\n",
      "B_IND01_EU_FN_ELI01_101.wav is selected, and will be the 20 file to be augmented for Brushing\n",
      "B_BRI01_MC_FI_SIM01_202.wav is selected, and will be the 21 file to be augmented for Brushing\n",
      "B_IND01_EU_FN_ELI01_302.wav is selected, and will be the 22 file to be augmented for Brushing\n",
      "B_MIN01_EU_FN_BEN01_101.wav is selected, and will be the 23 file to be augmented for Brushing\n",
      "B_MAG01_EU_FN_FED01_203.wav is selected, and will be the 24 file to be augmented for Brushing\n",
      "B_BAC01_MC_MN_SIM01_303.wav is selected, and will be the 25 file to be augmented for Brushing\n",
      "B_MAT01_EU_FN_RIT01_204.wav is selected, and will be the 26 file to be augmented for Brushing\n",
      "B_BRA01_MC_MN_SIM01_105.wav is selected, and will be the 27 file to be augmented for Brushing\n",
      "B_NIG01_MC_MN_SIM01_102.wav is selected, and will be the 28 file to be augmented for Brushing\n",
      "B_BRI01_MC_FI_SIM01_102.wav is selected, and will be the 29 file to be augmented for Brushing\n",
      "B_BAC01_MC_MN_SIM01_301.wav is selected, and will be the 30 file to be augmented for Brushing\n",
      "B_REG01_EU_FN_GIO01_101.wav is selected, and will be the 31 file to be augmented for Brushing\n",
      "B_MAG01_EU_FN_FED01_205.wav is selected, and will be the 32 file to be augmented for Brushing\n",
      "B_NIG01_MC_MN_SIM01_101.wav is selected, and will be the 33 file to be augmented for Brushing\n",
      "B_ANI01_MC_FN_SIM01_101.wav is selected, and will be the 34 file to be augmented for Brushing\n",
      "B_CAN01_EU_FN_GIA01_101.wav is selected, and will be the 35 file to be augmented for Brushing\n",
      "B_IND01_EU_FN_ELI01_203.wav is selected, and will be the 36 file to be augmented for Brushing\n",
      "B_MAG01_EU_FN_FED01_101.wav is selected, and will be the 37 file to be augmented for Brushing\n",
      "B_BRI01_MC_FI_SIM01_202.wav is selected, and will be the 38 file to be augmented for Brushing\n",
      "B_IND01_EU_FN_ELI01_202.wav is selected, and will be the 39 file to be augmented for Brushing\n",
      "B_BAC01_MC_MN_SIM01_103.wav is selected, and will be the 40 file to be augmented for Brushing\n",
      "B_IND01_EU_FN_ELI01_102.wav is selected, and will be the 41 file to be augmented for Brushing\n",
      "B_ANI01_MC_FN_SIM01_101.wav is selected, and will be the 42 file to be augmented for Brushing\n",
      "B_MIN01_EU_FN_BEN01_102.wav is selected, and will be the 43 file to be augmented for Brushing\n",
      "B_NIG01_MC_MN_SIM01_101.wav is selected, and will be the 44 file to be augmented for Brushing\n",
      "B_BRI01_MC_FI_SIM01_301.wav is selected, and will be the 45 file to be augmented for Brushing\n",
      "B_SPI01_EU_MN_NAI01_103.wav is selected, and will be the 46 file to be augmented for Brushing\n",
      "B_CAN01_EU_FN_GIA01_303.wav is selected, and will be the 47 file to be augmented for Brushing\n",
      "B_IND01_EU_FN_ELI01_304.wav is selected, and will be the 48 file to be augmented for Brushing\n",
      "B_SPI01_EU_MN_NAI01_102.wav is selected, and will be the 49 file to be augmented for Brushing\n",
      "B_MAT01_EU_FN_RIT01_301.wav is selected, and will be the 50 file to be augmented for Brushing\n",
      "B_BRI01_MC_FI_SIM01_202.wav is selected, and will be the 51 file to be augmented for Brushing\n",
      "B_CAN01_EU_FN_GIA01_202.wav is selected, and will be the 52 file to be augmented for Brushing\n",
      "B_CAN01_EU_FN_GIA01_302.wav is selected, and will be the 53 file to be augmented for Brushing\n",
      "B_BAC01_MC_MN_SIM01_303.wav is selected, and will be the 54 file to be augmented for Brushing\n",
      "B_WHO01_MC_FI_SIM01_302.wav is selected, and will be the 55 file to be augmented for Brushing\n",
      "B_MAT01_EU_FN_RIT01_201.wav is selected, and will be the 56 file to be augmented for Brushing\n",
      "B_BAC01_MC_MN_SIM01_202.wav is selected, and will be the 57 file to be augmented for Brushing\n",
      "B_BRI01_MC_FI_SIM01_301.wav is selected, and will be the 58 file to be augmented for Brushing\n",
      "B_BRI01_MC_FI_SIM01_202.wav is selected, and will be the 59 file to be augmented for Brushing\n",
      "B_ANI01_MC_FN_SIM01_102.wav is selected, and will be the 60 file to be augmented for Brushing\n",
      "B_IND01_EU_FN_ELI01_303.wav is selected, and will be the 61 file to be augmented for Brushing\n",
      "B_NIG01_MC_MN_SIM01_102.wav is selected, and will be the 62 file to be augmented for Brushing\n",
      "B_MAT01_EU_FN_RIT01_301.wav is selected, and will be the 63 file to be augmented for Brushing\n",
      "B_BAC01_MC_MN_SIM01_202.wav is selected, and will be the 64 file to be augmented for Brushing\n",
      "B_CAN01_EU_FN_GIA01_311.wav is selected, and will be the 65 file to be augmented for Brushing\n",
      "B_ANI01_MC_FN_SIM01_302.wav is selected, and will be the 66 file to be augmented for Brushing\n",
      "B_NUL01_MC_MI_SIM01_301.wav is selected, and will be the 67 file to be augmented for Brushing\n",
      "B_BAC01_MC_MN_SIM01_202.wav is selected, and will be the 68 file to be augmented for Brushing\n",
      "B_BAC01_MC_MN_SIM01_103.wav is selected, and will be the 69 file to be augmented for Brushing\n",
      "B_MAG01_EU_FN_FED01_101.wav is selected, and will be the 70 file to be augmented for Brushing\n",
      "B_MAT01_EU_FN_RIT01_205.wav is selected, and will be the 71 file to be augmented for Brushing\n",
      "B_BRA01_MC_MN_SIM01_104.wav is selected, and will be the 72 file to be augmented for Brushing\n",
      "B_CAN01_EU_FN_GIA01_205.wav is selected, and will be the 73 file to be augmented for Brushing\n",
      "B_CAN01_EU_FN_GIA01_301.wav is selected, and will be the 74 file to be augmented for Brushing\n",
      "B_MAG01_EU_FN_FED01_102.wav is selected, and will be the 75 file to be augmented for Brushing\n",
      "B_CAN01_EU_FN_GIA01_105.wav is selected, and will be the 76 file to be augmented for Brushing\n",
      "B_WHO01_MC_FI_SIM01_104.wav is selected, and will be the 77 file to be augmented for Brushing\n",
      "B_WHO01_MC_FI_SIM01_204.wav is selected, and will be the 78 file to be augmented for Brushing\n",
      "B_BRA01_MC_MN_SIM01_104.wav is selected, and will be the 79 file to be augmented for Brushing\n",
      "B_WHO01_MC_FI_SIM01_203.wav is selected, and will be the 80 file to be augmented for Brushing\n",
      "B_SPI01_EU_MN_NAI01_301.wav is selected, and will be the 81 file to be augmented for Brushing\n",
      "B_MIN01_EU_FN_BEN01_102.wav is selected, and will be the 82 file to be augmented for Brushing\n",
      "B_JJX01_MC_FN_SIM01_103.wav is selected, and will be the 83 file to be augmented for Brushing\n",
      "B_CAN01_EU_FN_GIA01_309.wav is selected, and will be the 84 file to be augmented for Brushing\n",
      "B_IND01_EU_FN_ELI01_102.wav is selected, and will be the 85 file to be augmented for Brushing\n",
      "B_DAK01_MC_FN_SIM01_102.wav is selected, and will be the 86 file to be augmented for Brushing\n",
      "B_CAN01_EU_FN_GIA01_208.wav is selected, and will be the 87 file to be augmented for Brushing\n",
      "B_NIG01_MC_MN_SIM01_201.wav is selected, and will be the 88 file to be augmented for Brushing\n",
      "B_CAN01_EU_FN_GIA01_101.wav is selected, and will be the 89 file to be augmented for Brushing\n",
      "B_MAG01_EU_FN_FED01_203.wav is selected, and will be the 90 file to be augmented for Brushing\n",
      "B_BRI01_MC_FI_SIM01_302.wav is selected, and will be the 91 file to be augmented for Brushing\n",
      "B_BAC01_MC_MN_SIM01_103.wav is selected, and will be the 92 file to be augmented for Brushing\n",
      "B_MAG01_EU_FN_FED01_102.wav is selected, and will be the 93 file to be augmented for Brushing\n",
      "B_BAC01_MC_MN_SIM01_103.wav is selected, and will be the 94 file to be augmented for Brushing\n",
      "B_BRI01_MC_FI_SIM01_302.wav is selected, and will be the 95 file to be augmented for Brushing\n",
      "B_IND01_EU_FN_ELI01_101.wav is selected, and will be the 96 file to be augmented for Brushing\n",
      "B_CAN01_EU_FN_GIA01_303.wav is selected, and will be the 97 file to be augmented for Brushing\n",
      "B_IND01_EU_FN_ELI01_304.wav is selected, and will be the 98 file to be augmented for Brushing\n",
      "B_CAN01_EU_FN_GIA01_202.wav is selected, and will be the 99 file to be augmented for Brushing\n",
      "B_MIN01_EU_FN_BEN01_104.wav is selected, and will be the 100 file to be augmented for Brushing\n",
      "B_CAN01_EU_FN_GIA01_105.wav is selected, and will be the 101 file to be augmented for Brushing\n",
      "B_NUL01_MC_MI_SIM01_102.wav is selected, and will be the 102 file to be augmented for Brushing\n",
      "B_SPI01_EU_MN_NAI01_103.wav is selected, and will be the 103 file to be augmented for Brushing\n",
      "B_CAN01_EU_FN_GIA01_306.wav is selected, and will be the 104 file to be augmented for Brushing\n",
      "B_CAN01_EU_FN_GIA01_205.wav is selected, and will be the 105 file to be augmented for Brushing\n",
      "B_NUL01_MC_MI_SIM01_302.wav is selected, and will be the 106 file to be augmented for Brushing\n",
      "B_BAC01_MC_MN_SIM01_103.wav is selected, and will be the 107 file to be augmented for Brushing\n",
      "B_CAN01_EU_FN_GIA01_210.wav is selected, and will be the 108 file to be augmented for Brushing\n",
      "B_BRA01_MC_MN_SIM01_301.wav is selected, and will be the 109 file to be augmented for Brushing\n",
      "B_MAT01_EU_FN_RIT01_203.wav is selected, and will be the 110 file to be augmented for Brushing\n",
      "B_WHO01_MC_FI_SIM01_204.wav is selected, and will be the 111 file to be augmented for Brushing\n",
      "B_WHO01_MC_FI_SIM01_302.wav is selected, and will be the 112 file to be augmented for Brushing\n",
      "B_CAN01_EU_FN_GIA01_201.wav is selected, and will be the 113 file to be augmented for Brushing\n",
      "B_NIG01_MC_MN_SIM01_101.wav is selected, and will be the 114 file to be augmented for Brushing\n",
      "B_NIG01_MC_MN_SIM01_103.wav is selected, and will be the 115 file to be augmented for Brushing\n",
      "B_BRI01_MC_FI_SIM01_202.wav is selected, and will be the 116 file to be augmented for Brushing\n",
      "B_ANI01_MC_FN_SIM01_102.wav is selected, and will be the 117 file to be augmented for Brushing\n",
      "B_IND01_EU_FN_ELI01_304.wav is selected, and will be the 118 file to be augmented for Brushing\n",
      "B_BRA01_MC_MN_SIM01_106.wav is selected, and will be the 119 file to be augmented for Brushing\n",
      "B_CAN01_EU_FN_GIA01_201.wav is selected, and will be the 120 file to be augmented for Brushing\n",
      "B_MAG01_EU_FN_FED01_205.wav is selected, and will be the 121 file to be augmented for Brushing\n",
      "B_MAG01_EU_FN_FED01_203.wav is selected, and will be the 122 file to be augmented for Brushing\n",
      "B_WHO01_MC_FI_SIM01_103.wav is selected, and will be the 123 file to be augmented for Brushing\n",
      "=============================================================================\n",
      "class Food currently has 92 data points\n",
      "158 will be created for Food\n",
      "F_BAC01_MC_MN_SIM01_302.wav is selected, and will be the 1 file to be augmented for Food\n",
      "F_IND01_EU_FN_ELI01_101.wav is selected, and will be the 2 file to be augmented for Food\n",
      "F_SPI01_EU_MN_NAI01_101.wav is selected, and will be the 3 file to be augmented for Food\n",
      "F_MEG01_MC_FI_SIM01_304.wav is selected, and will be the 4 file to be augmented for Food\n",
      "F_WHO01_MC_FI_SIM01_101.wav is selected, and will be the 5 file to be augmented for Food\n",
      "F_BAC01_MC_MN_SIM01_105.wav is selected, and will be the 6 file to be augmented for Food\n",
      "F_MAG01_EU_FN_FED01_101.wav is selected, and will be the 7 file to be augmented for Food\n",
      "F_IND01_EU_FN_ELI01_201.wav is selected, and will be the 8 file to be augmented for Food\n",
      "F_MIN01_EU_FN_BEN01_101.wav is selected, and will be the 9 file to be augmented for Food\n",
      "F_BLE01_EU_FN_DEL01_102.wav is selected, and will be the 10 file to be augmented for Food\n",
      "F_BAC01_MC_MN_SIM01_101.wav is selected, and will be the 11 file to be augmented for Food\n",
      "F_MAT01_EU_FN_RIT01_103.wav is selected, and will be the 12 file to be augmented for Food\n",
      "F_SPI01_EU_MN_NAI01_101.wav is selected, and will be the 13 file to be augmented for Food\n",
      "F_MEG01_MC_FI_SIM01_301.wav is selected, and will be the 14 file to be augmented for Food\n",
      "F_DAK01_MC_FN_SIM01_304.wav is selected, and will be the 15 file to be augmented for Food\n",
      "F_MAG01_EU_FN_FED01_303.wav is selected, and will be the 16 file to be augmented for Food\n",
      "F_WHO01_MC_FI_SIM01_306.wav is selected, and will be the 17 file to be augmented for Food\n",
      "F_WHO01_MC_FI_SIM01_304.wav is selected, and will be the 18 file to be augmented for Food\n",
      "F_BAC01_MC_MN_SIM01_203.wav is selected, and will be the 19 file to be augmented for Food\n",
      "F_MAG01_EU_FN_FED01_102.wav is selected, and will be the 20 file to be augmented for Food\n",
      "F_MAG01_EU_FN_FED01_203.wav is selected, and will be the 21 file to be augmented for Food\n",
      "F_BLE01_EU_FN_DEL01_103.wav is selected, and will be the 22 file to be augmented for Food\n",
      "F_BRA01_MC_MN_SIM01_302.wav is selected, and will be the 23 file to be augmented for Food\n",
      "F_BAC01_MC_MN_SIM01_104.wav is selected, and will be the 24 file to be augmented for Food\n",
      "F_BAC01_MC_MN_SIM01_203.wav is selected, and will be the 25 file to be augmented for Food\n",
      "F_WHO01_MC_FI_SIM01_304.wav is selected, and will be the 26 file to be augmented for Food\n",
      "F_SPI01_EU_MN_NAI01_202.wav is selected, and will be the 27 file to be augmented for Food\n",
      "F_BAC01_MC_MN_SIM01_101.wav is selected, and will be the 28 file to be augmented for Food\n",
      "F_MEG01_MC_FI_SIM01_301.wav is selected, and will be the 29 file to be augmented for Food\n",
      "F_WHO01_MC_FI_SIM01_101.wav is selected, and will be the 30 file to be augmented for Food\n",
      "F_WHO01_MC_FI_SIM01_302.wav is selected, and will be the 31 file to be augmented for Food\n",
      "F_MIN01_EU_FN_BEN01_102.wav is selected, and will be the 32 file to be augmented for Food\n",
      "F_MAG01_EU_FN_FED01_305.wav is selected, and will be the 33 file to be augmented for Food\n",
      "F_WHO01_MC_FI_SIM01_304.wav is selected, and will be the 34 file to be augmented for Food\n",
      "F_BAC01_MC_MN_SIM01_103.wav is selected, and will be the 35 file to be augmented for Food\n",
      "F_BRI01_MC_FI_SIM01_106.wav is selected, and will be the 36 file to be augmented for Food\n",
      "F_WHO01_MC_FI_SIM01_304.wav is selected, and will be the 37 file to be augmented for Food\n",
      "F_MEG01_MC_FI_SIM01_303.wav is selected, and will be the 38 file to be augmented for Food\n",
      "F_WHO01_MC_FI_SIM01_103.wav is selected, and will be the 39 file to be augmented for Food\n",
      "F_BRI01_MC_FI_SIM01_103.wav is selected, and will be the 40 file to be augmented for Food\n",
      "F_WHO01_MC_FI_SIM01_102.wav is selected, and will be the 41 file to be augmented for Food\n",
      "F_BRI01_MC_FI_SIM01_106.wav is selected, and will be the 42 file to be augmented for Food\n",
      "F_MAG01_EU_FN_FED01_103.wav is selected, and will be the 43 file to be augmented for Food\n",
      "F_WHO01_MC_FI_SIM01_101.wav is selected, and will be the 44 file to be augmented for Food\n",
      "F_WHO01_MC_FI_SIM01_307.wav is selected, and will be the 45 file to be augmented for Food\n",
      "F_MEG01_MC_FI_SIM01_302.wav is selected, and will be the 46 file to be augmented for Food\n",
      "F_MAT01_EU_FN_RIT01_303.wav is selected, and will be the 47 file to be augmented for Food\n",
      "F_MIN01_EU_FN_BEN01_101.wav is selected, and will be the 48 file to be augmented for Food\n",
      "F_MAG01_EU_FN_FED01_303.wav is selected, and will be the 49 file to be augmented for Food\n",
      "F_BAC01_MC_MN_SIM01_303.wav is selected, and will be the 50 file to be augmented for Food\n",
      "F_BRI01_MC_FI_SIM01_105.wav is selected, and will be the 51 file to be augmented for Food\n",
      "F_MAG01_EU_FN_FED01_102.wav is selected, and will be the 52 file to be augmented for Food\n",
      "F_BAC01_MC_MN_SIM01_101.wav is selected, and will be the 53 file to be augmented for Food\n",
      "F_MAT01_EU_FN_RIT01_101.wav is selected, and will be the 54 file to be augmented for Food\n",
      "F_MAG01_EU_FN_FED01_301.wav is selected, and will be the 55 file to be augmented for Food\n",
      "F_SPI01_EU_MN_NAI01_104.wav is selected, and will be the 56 file to be augmented for Food\n",
      "F_BAC01_MC_MN_SIM01_303.wav is selected, and will be the 57 file to be augmented for Food\n",
      "F_MAG01_EU_FN_FED01_103.wav is selected, and will be the 58 file to be augmented for Food\n",
      "F_SPI01_EU_MN_NAI01_101.wav is selected, and will be the 59 file to be augmented for Food\n",
      "F_BRI01_MC_FI_SIM01_201.wav is selected, and will be the 60 file to be augmented for Food\n",
      "F_MAG01_EU_FN_FED01_303.wav is selected, and will be the 61 file to be augmented for Food\n",
      "F_BRI01_MC_FI_SIM01_103.wav is selected, and will be the 62 file to be augmented for Food\n",
      "F_BRA01_MC_MN_SIM01_302.wav is selected, and will be the 63 file to be augmented for Food\n",
      "F_MEG01_MC_FI_SIM01_303.wav is selected, and will be the 64 file to be augmented for Food\n",
      "F_IND01_EU_FN_ELI01_103.wav is selected, and will be the 65 file to be augmented for Food\n",
      "F_MEG01_MC_FI_SIM01_304.wav is selected, and will be the 66 file to be augmented for Food\n",
      "F_MAG01_EU_FN_FED01_104.wav is selected, and will be the 67 file to be augmented for Food\n",
      "F_BRI01_MC_FI_SIM01_102.wav is selected, and will be the 68 file to be augmented for Food\n",
      "F_BLE01_EU_FN_DEL01_103.wav is selected, and will be the 69 file to be augmented for Food\n",
      "F_MIN01_EU_FN_BEN01_101.wav is selected, and will be the 70 file to be augmented for Food\n",
      "F_IND01_EU_FN_ELI01_201.wav is selected, and will be the 71 file to be augmented for Food\n",
      "F_SPI01_EU_MN_NAI01_202.wav is selected, and will be the 72 file to be augmented for Food\n",
      "F_LEO01_EU_MI_RIT01_105.wav is selected, and will be the 73 file to be augmented for Food\n",
      "F_MAG01_EU_FN_FED01_304.wav is selected, and will be the 74 file to be augmented for Food\n",
      "F_IND01_EU_FN_ELI01_203.wav is selected, and will be the 75 file to be augmented for Food\n",
      "F_IND01_EU_FN_ELI01_202.wav is selected, and will be the 76 file to be augmented for Food\n",
      "F_WHO01_MC_FI_SIM01_304.wav is selected, and will be the 77 file to be augmented for Food\n",
      "F_LEO01_EU_MI_RIT01_101.wav is selected, and will be the 78 file to be augmented for Food\n",
      "F_WHO01_MC_FI_SIM01_103.wav is selected, and will be the 79 file to be augmented for Food\n",
      "F_REG01_EU_FN_GIO01_201.wav is selected, and will be the 80 file to be augmented for Food\n",
      "F_BLE01_EU_FN_DEL01_102.wav is selected, and will be the 81 file to be augmented for Food\n",
      "F_BRA01_MC_MN_SIM01_302.wav is selected, and will be the 82 file to be augmented for Food\n",
      "F_WHO01_MC_FI_SIM01_306.wav is selected, and will be the 83 file to be augmented for Food\n",
      "F_SPI01_EU_MN_NAI01_102.wav is selected, and will be the 84 file to be augmented for Food\n",
      "F_BAC01_MC_MN_SIM01_302.wav is selected, and will be the 85 file to be augmented for Food\n",
      "F_WHO01_MC_FI_SIM01_103.wav is selected, and will be the 86 file to be augmented for Food\n",
      "F_MAT01_EU_FN_RIT01_102.wav is selected, and will be the 87 file to be augmented for Food\n",
      "F_MAT01_EU_FN_RIT01_301.wav is selected, and will be the 88 file to be augmented for Food\n",
      "F_BRA01_MC_MN_SIM01_302.wav is selected, and will be the 89 file to be augmented for Food\n",
      "F_MIN01_EU_FN_BEN01_104.wav is selected, and will be the 90 file to be augmented for Food\n",
      "F_BAC01_MC_MN_SIM01_102.wav is selected, and will be the 91 file to be augmented for Food\n",
      "F_BAC01_MC_MN_SIM01_203.wav is selected, and will be the 92 file to be augmented for Food\n",
      "F_DAK01_MC_FN_SIM01_301.wav is selected, and will be the 93 file to be augmented for Food\n",
      "F_MAG01_EU_FN_FED01_304.wav is selected, and will be the 94 file to be augmented for Food\n",
      "F_MIN01_EU_FN_BEN01_103.wav is selected, and will be the 95 file to be augmented for Food\n",
      "F_BRI01_MC_FI_SIM01_101.wav is selected, and will be the 96 file to be augmented for Food\n",
      "F_MIN01_EU_FN_BEN01_103.wav is selected, and will be the 97 file to be augmented for Food\n",
      "F_MAG01_EU_FN_FED01_302.wav is selected, and will be the 98 file to be augmented for Food\n",
      "F_MAT01_EU_FN_RIT01_102.wav is selected, and will be the 99 file to be augmented for Food\n",
      "F_IND01_EU_FN_ELI01_302.wav is selected, and will be the 100 file to be augmented for Food\n",
      "F_LEO01_EU_MI_RIT01_102.wav is selected, and will be the 101 file to be augmented for Food\n",
      "F_MAG01_EU_FN_FED01_104.wav is selected, and will be the 102 file to be augmented for Food\n",
      "F_MIN01_EU_FN_BEN01_104.wav is selected, and will be the 103 file to be augmented for Food\n",
      "F_WHO01_MC_FI_SIM01_301.wav is selected, and will be the 104 file to be augmented for Food\n",
      "F_IND01_EU_FN_ELI01_302.wav is selected, and will be the 105 file to be augmented for Food\n",
      "F_MEG01_MC_FI_SIM01_304.wav is selected, and will be the 106 file to be augmented for Food\n",
      "F_BRI01_MC_FI_SIM01_105.wav is selected, and will be the 107 file to be augmented for Food\n",
      "F_BLE01_EU_FN_DEL01_101.wav is selected, and will be the 108 file to be augmented for Food\n",
      "F_MIN01_EU_FN_BEN01_102.wav is selected, and will be the 109 file to be augmented for Food\n",
      "F_IND01_EU_FN_ELI01_102.wav is selected, and will be the 110 file to be augmented for Food\n",
      "F_MAT01_EU_FN_RIT01_102.wav is selected, and will be the 111 file to be augmented for Food\n",
      "F_IND01_EU_FN_ELI01_301.wav is selected, and will be the 112 file to be augmented for Food\n",
      "F_WHO01_MC_FI_SIM01_304.wav is selected, and will be the 113 file to be augmented for Food\n",
      "F_REG01_EU_FN_GIO01_201.wav is selected, and will be the 114 file to be augmented for Food\n",
      "F_BAC01_MC_MN_SIM01_202.wav is selected, and will be the 115 file to be augmented for Food\n",
      "F_DAK01_MC_FN_SIM01_302.wav is selected, and will be the 116 file to be augmented for Food\n",
      "F_IND01_EU_FN_ELI01_101.wav is selected, and will be the 117 file to be augmented for Food\n",
      "F_MAG01_EU_FN_FED01_305.wav is selected, and will be the 118 file to be augmented for Food\n",
      "F_WHO01_MC_FI_SIM01_306.wav is selected, and will be the 119 file to be augmented for Food\n",
      "F_WHO01_MC_FI_SIM01_103.wav is selected, and will be the 120 file to be augmented for Food\n",
      "F_MEG01_MC_FI_SIM01_304.wav is selected, and will be the 121 file to be augmented for Food\n",
      "F_IND01_EU_FN_ELI01_102.wav is selected, and will be the 122 file to be augmented for Food\n",
      "F_BLE01_EU_FN_DEL01_101.wav is selected, and will be the 123 file to be augmented for Food\n",
      "F_BAC01_MC_MN_SIM01_101.wav is selected, and will be the 124 file to be augmented for Food\n",
      "F_SPI01_EU_MN_NAI01_203.wav is selected, and will be the 125 file to be augmented for Food\n",
      "F_MAG01_EU_FN_FED01_305.wav is selected, and will be the 126 file to be augmented for Food\n",
      "F_MIN01_EU_FN_BEN01_101.wav is selected, and will be the 127 file to be augmented for Food\n",
      "F_BAC01_MC_MN_SIM01_104.wav is selected, and will be the 128 file to be augmented for Food\n",
      "F_MAG01_EU_FN_FED01_103.wav is selected, and will be the 129 file to be augmented for Food\n",
      "F_IND01_EU_FN_ELI01_304.wav is selected, and will be the 130 file to be augmented for Food\n",
      "F_MAG01_EU_FN_FED01_304.wav is selected, and will be the 131 file to be augmented for Food\n",
      "F_WHO01_MC_FI_SIM01_304.wav is selected, and will be the 132 file to be augmented for Food\n",
      "F_IND01_EU_FN_ELI01_102.wav is selected, and will be the 133 file to be augmented for Food\n",
      "F_REG01_EU_FN_GIO01_201.wav is selected, and will be the 134 file to be augmented for Food\n",
      "F_CAN01_EU_FN_GIA01_202.wav is selected, and will be the 135 file to be augmented for Food\n",
      "F_WHO01_MC_FI_SIM01_102.wav is selected, and will be the 136 file to be augmented for Food\n",
      "F_IND01_EU_FN_ELI01_301.wav is selected, and will be the 137 file to be augmented for Food\n",
      "F_MAT01_EU_FN_RIT01_101.wav is selected, and will be the 138 file to be augmented for Food\n",
      "F_SPI01_EU_MN_NAI01_103.wav is selected, and will be the 139 file to be augmented for Food\n",
      "F_MAG01_EU_FN_FED01_302.wav is selected, and will be the 140 file to be augmented for Food\n",
      "F_LEO01_EU_MI_RIT01_102.wav is selected, and will be the 141 file to be augmented for Food\n",
      "F_MAG01_EU_FN_FED01_104.wav is selected, and will be the 142 file to be augmented for Food\n",
      "F_BRI01_MC_FI_SIM01_104.wav is selected, and will be the 143 file to be augmented for Food\n",
      "F_DAK01_MC_FN_SIM01_303.wav is selected, and will be the 144 file to be augmented for Food\n",
      "F_MAG01_EU_FN_FED01_305.wav is selected, and will be the 145 file to be augmented for Food\n",
      "F_SPI01_EU_MN_NAI01_101.wav is selected, and will be the 146 file to be augmented for Food\n",
      "F_IND01_EU_FN_ELI01_103.wav is selected, and will be the 147 file to be augmented for Food\n",
      "F_CAN01_EU_FN_GIA01_202.wav is selected, and will be the 148 file to be augmented for Food\n",
      "F_DAK01_MC_FN_SIM01_304.wav is selected, and will be the 149 file to be augmented for Food\n",
      "F_SPI01_EU_MN_NAI01_202.wav is selected, and will be the 150 file to be augmented for Food\n",
      "F_BRI01_MC_FI_SIM01_102.wav is selected, and will be the 151 file to be augmented for Food\n",
      "F_MAT01_EU_FN_RIT01_103.wav is selected, and will be the 152 file to be augmented for Food\n",
      "F_LEO01_EU_MI_RIT01_104.wav is selected, and will be the 153 file to be augmented for Food\n",
      "F_MEG01_MC_FI_SIM01_302.wav is selected, and will be the 154 file to be augmented for Food\n",
      "F_LEO01_EU_MI_RIT01_105.wav is selected, and will be the 155 file to be augmented for Food\n",
      "F_BRI01_MC_FI_SIM01_105.wav is selected, and will be the 156 file to be augmented for Food\n",
      "F_MAT01_EU_FN_RIT01_102.wav is selected, and will be the 157 file to be augmented for Food\n",
      "F_MAG01_EU_FN_FED01_104.wav is selected, and will be the 158 file to be augmented for Food\n",
      "=============================================================================\n",
      "class Environment currently has 221 data points\n",
      "29 will be created for Environment\n",
      "I_BLE01_EU_FN_DEL01_110.wav is selected, and will be the 1 file to be augmented for Environment\n",
      "I_REG01_EU_FN_GIO01_201.wav is selected, and will be the 2 file to be augmented for Environment\n",
      "I_MEG01_MC_FI_SIM01_305.wav is selected, and will be the 3 file to be augmented for Environment\n",
      "I_CAN01_EU_FN_GIA01_201.wav is selected, and will be the 4 file to be augmented for Environment\n",
      "I_DAK01_MC_FN_SIM01_302.wav is selected, and will be the 5 file to be augmented for Environment\n",
      "I_BAC01_MC_MN_SIM10_102.wav is selected, and will be the 6 file to be augmented for Environment\n",
      "I_CAN01_EU_FN_GIA01_208.wav is selected, and will be the 7 file to be augmented for Environment\n",
      "I_CLE01_EU_FN_FER01_119.wav is selected, and will be the 8 file to be augmented for Environment\n",
      "I_BLE01_EU_FN_DEL01_104.wav is selected, and will be the 9 file to be augmented for Environment\n",
      "I_BLE01_EU_FN_DEL01_219.wav is selected, and will be the 10 file to be augmented for Environment\n",
      "I_BLE01_EU_FN_DEL01_212.wav is selected, and will be the 11 file to be augmented for Environment\n",
      "I_CLE01_EU_FN_FER01_117.wav is selected, and will be the 12 file to be augmented for Environment\n",
      "I_BRA01_MC_MN_SIM01_101.wav is selected, and will be the 13 file to be augmented for Environment\n",
      "I_DAK01_MC_FN_SIM01_305.wav is selected, and will be the 14 file to be augmented for Environment\n",
      "I_DAK01_MC_FN_SIM01_113.wav is selected, and will be the 15 file to be augmented for Environment\n",
      "I_DAK01_MC_FN_SIM01_109.wav is selected, and will be the 16 file to be augmented for Environment\n",
      "I_BLE01_EU_FN_DEL01_107.wav is selected, and will be the 17 file to be augmented for Environment\n",
      "I_MEG01_MC_FI_SIM01_103.wav is selected, and will be the 18 file to be augmented for Environment\n",
      "I_BAC01_MC_MN_SIM10_102.wav is selected, and will be the 19 file to be augmented for Environment\n",
      "I_DAK01_MC_FN_SIM01_104.wav is selected, and will be the 20 file to be augmented for Environment\n",
      "I_BAC01_MC_MN_SIM10_102.wav is selected, and will be the 21 file to be augmented for Environment\n",
      "I_SPI01_EU_MN_NAI01_301.wav is selected, and will be the 22 file to be augmented for Environment\n",
      "I_SPI01_EU_MN_NAI01_102.wav is selected, and will be the 23 file to be augmented for Environment\n",
      "I_BLE01_EU_FN_DEL01_104.wav is selected, and will be the 24 file to be augmented for Environment\n",
      "I_BLE01_EU_FN_DEL01_106.wav is selected, and will be the 25 file to be augmented for Environment\n",
      "I_BLE01_EU_FN_DEL01_215.wav is selected, and will be the 26 file to be augmented for Environment\n",
      "I_MEG01_MC_FI_SIM01_305.wav is selected, and will be the 27 file to be augmented for Environment\n",
      "I_MAT01_EU_FN_RIT01_208.wav is selected, and will be the 28 file to be augmented for Environment\n",
      "I_WHO01_MC_FI_SIM01_115.wav is selected, and will be the 29 file to be augmented for Environment\n",
      "=============================================================================\n"
     ]
    }
   ],
   "source": [
    "for label in label_folder:\n",
    "    \n",
    "    raw_file_lst = os.listdir(os.path.join(raw_audio_file_path,label))\n",
    "    \n",
    "    num_file = len(raw_file_lst)\n",
    "    print(f'class {label} currently has {num_file} data points')\n",
    "    \n",
    "    create_file_num =  target_num - num_file\n",
    "    print(f'{create_file_num} will be created for {label}')\n",
    "    \n",
    "    for num in range(create_file_num):\n",
    "        \n",
    "        file_to_augment = random.choice(raw_file_lst)\n",
    "        print(f'{file_to_augment} is selected, and will be the {num + 1} file to be augmented for {label}')\n",
    "        signal, sr = librosa.load(os.path.join(raw_audio_file_path,label,file_to_augment))\n",
    "#         plt.plot(signal)\n",
    "        \n",
    "        aug_technique = random.choice(aug_type)\n",
    "        augmented_file = audio_augmentation(signal = signal, aug_fxn = aug_technique)\n",
    "        save_path = os.path.join(raw_audio_file_path,label)\n",
    "        sf.write( save_path + '\\\\aug_'+ str(num) + file_to_augment , augmented_file, sr)\n",
    "\n",
    "#         break\n",
    "#     break\n",
    "    print('=============================================================================')\n"
   ]
  }
 ],
 "metadata": {
  "kernelspec": {
   "display_name": "Computer_vision",
   "language": "python",
   "name": "computer_vision"
  },
  "language_info": {
   "codemirror_mode": {
    "name": "ipython",
    "version": 3
   },
   "file_extension": ".py",
   "mimetype": "text/x-python",
   "name": "python",
   "nbconvert_exporter": "python",
   "pygments_lexer": "ipython3",
   "version": "3.8.18"
  }
 },
 "nbformat": 4,
 "nbformat_minor": 5
}
